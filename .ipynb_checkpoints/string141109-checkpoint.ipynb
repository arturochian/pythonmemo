{
 "metadata": {
  "name": "",
  "signature": "sha256:62cbd7ae02bf1392c73c6ef8d6d2cb5c7b56ad063f2fb2fd0cf2a4e66d657986"
 },
 "nbformat": 3,
 "nbformat_minor": 0,
 "worksheets": [
  {
   "cells": [
    {
     "cell_type": "heading",
     "level": 1,
     "metadata": {},
     "source": [
      "pandas\u3067\u6587\u5b57\u5217\u3092\u64cd\u4f5c\u3059\u308b\u30c6\u30b9\u30c8\uff08IPython notebook\u306e\u30c6\u30b9\u30c8\u3082\u304b\u306d\u3066\uff09"
     ]
    },
    {
     "cell_type": "markdown",
     "metadata": {},
     "source": [
      "\u3044\u307e\u307e\u3067R\u3067\u3084\u3063\u3066\u3044\u305f\u9762\u5012\u306a\u3053\u3068\u3092pandas(Python)\u3067\u3084\u3063\u3066\u3044\u304f\u3002\u3064\u3044\u3067\u306bIPython notebook\u3082\u4f7f\u3046\u3002\n",
      "\u3061\u306a\u307f\u306b\u30bb\u30eb\u306e\u5b9f\u884c\u306fShift+Enter\u304c\u697d\u3002\u30bb\u30eb\u3092\u6d88\u3059\u3068\u304d\u306fEsc\u3067\u3044\u3063\u305f\u3093command mode\u306b\u79fb\u884c\u3057\u305f\u5f8c\u3001d\u3092\uff12\u56de\u62bc\u3059\u3002\n",
      "\n",
      "\u305d\u306e\u4ed6\u306e\u30b7\u30e7\u30fc\u30c8\u30ab\u30c3\u30c8\u30ad\u30fc\u306f\u30bb\u30eb\u3092\u7de8\u96c6\u3057\u3066\u3044\u306a\u3044\u72b6\u614b\uff08command mode\uff1a\u30bb\u30eb\u3092\u7de8\u96c6\u3057\u3066\u3044\u308b\u72b6\u614b\u304b\u3089\u3060\u3068Esc\u30ad\u30fc\u3067\u79fb\u884c\u3067\u304d\u308b\uff09\u3067h\u3092\u62bc\u3057\u3066\u3082\u8868\u793a\u3055\u308c\u308b\u306e\u3067\u666e\u6bb5\u306f\u305d\u3061\u3089\u3092\u4f7f\u3044\u307e\u3057\u3087\u3046\u3002"
     ]
    },
    {
     "cell_type": "heading",
     "level": 2,
     "metadata": {},
     "source": [
      "\uff08\u304a\u984c\uff09yyyymmdd\u3068\u3044\u3046int\u3092yyyy-mm-dd\u306b\u5909\u63db\u3059\u308b"
     ]
    },
    {
     "cell_type": "code",
     "collapsed": false,
     "input": [
      "from IPython.core.display import HTML\n",
      "HTML('<blockquote class=\"twitter-tweet\" lang=\"ja\"><p><a href=\"https://twitter.com/dichika\">@dichika</a> \u3042\u30fc\u3001\u30c7\u30fc\u30bf\u30d5\u30ec\u30fc\u30e0\u306b\u3042\u308byyyymmdd\u3092yyyy-mm-dd\u306b\u5909\u63db\u3057\u305f\u304b\u3063\u305f\u3060\u3051\u3067\u3059\uff01&#10;R\u3060\u3068\u7c21\u5358\u306b\u304b\u3051\u308b\u3051\u3069\u3001pandas\u3060\u3068apply\u3068\u304b\u4f7f\u308f\u306a\u3044\u3068\u306a\u306e\u304b\u306a\u30fc\u3068</p>&mdash; \u91cc\u3000\u6d0b\u5e73 (@yokkuns) <a href=\"https://twitter.com/yokkuns/status/530890178819158016\">2014, 11\u6708 8</a></blockquote><script async src=\"//platform.twitter.com/widgets.js\" charset=\"utf-8\"></script>')"
     ],
     "language": "python",
     "metadata": {},
     "outputs": [
      {
       "html": [
        "<blockquote class=\"twitter-tweet\" lang=\"ja\"><p><a href=\"https://twitter.com/dichika\">@dichika</a> \u3042\u30fc\u3001\u30c7\u30fc\u30bf\u30d5\u30ec\u30fc\u30e0\u306b\u3042\u308byyyymmdd\u3092yyyy-mm-dd\u306b\u5909\u63db\u3057\u305f\u304b\u3063\u305f\u3060\u3051\u3067\u3059\uff01&#10;R\u3060\u3068\u7c21\u5358\u306b\u304b\u3051\u308b\u3051\u3069\u3001pandas\u3060\u3068apply\u3068\u304b\u4f7f\u308f\u306a\u3044\u3068\u306a\u306e\u304b\u306a\u30fc\u3068</p>&mdash; \u91cc\u3000\u6d0b\u5e73 (@yokkuns) <a href=\"https://twitter.com/yokkuns/status/530890178819158016\">2014, 11\u6708 8</a></blockquote><script async src=\"//platform.twitter.com/widgets.js\" charset=\"utf-8\"></script>"
       ],
       "metadata": {},
       "output_type": "pyout",
       "prompt_number": 27,
       "text": [
        "<IPython.core.display.HTML at 0x106c23390>"
       ]
      }
     ],
     "prompt_number": 27
    },
    {
     "cell_type": "code",
     "collapsed": false,
     "input": [
      "import pandas as pd\n",
      "df = pd.DataFrame({'V1':[20140101,20140201]})\n",
      "\n",
      "# int\u306a\u306e\u3067\u6587\u5b57\u5217\u306b\u5909\u63db\u3059\u308b\n",
      "df['V1'] = df['V1'].astype(str) # \u6700\u521d\u306fapply(str)\u3068\u3057\u3066\u3044\u305f"
     ],
     "language": "python",
     "metadata": {},
     "outputs": [],
     "prompt_number": 15
    },
    {
     "cell_type": "code",
     "collapsed": false,
     "input": [
      "# \u6700\u521d\u306f\u6b63\u898f\u8868\u73fe\u3092\u4f7f\u3063\u305f\u3051\u3069\u307e\u3069\u308d\u3063\u3053\u3057\u304b\u3063\u305f\n",
      "df['V1'].str.extract('(.{4})') + '-' +df['V1'].str.extract('^.{4}(.{2})') + '-' + df['V1'].str.extract('^.{6}(.{2})')"
     ],
     "language": "python",
     "metadata": {},
     "outputs": [
      {
       "metadata": {},
       "output_type": "pyout",
       "prompt_number": 16,
       "text": [
        "0    2014-01-01\n",
        "1    2014-02-01\n",
        "Name: V1, dtype: object"
       ]
      }
     ],
     "prompt_number": 16
    },
    {
     "cell_type": "heading",
     "level": 3,
     "metadata": {},
     "source": [
      "\u89aa\u5207\u306a\u65b9\u767b\u5834"
     ]
    },
    {
     "cell_type": "code",
     "collapsed": false,
     "input": [
      "HTML('<blockquote class=\"twitter-tweet\" data-conversation=\"none\" lang=\"ja\"><p><a href=\"https://twitter.com/dichika\">@dichika</a> <a href=\"https://twitter.com/yokkuns\">@yokkuns</a> apply\u4f7f\u308f\u306a\u3044\u306e\u3067\u3042\u308c\u3070\u3001\u3053\u3093\u306a\u3075\u3046\u306b\u3067\u304d\u307e\u3059\u3002&#10;df[&#39;V1&#39;].astype(str).str.slice(0,4) + &quot;-&quot; + df[&#39;V1&#39;].astype(str).str.slice(4,6) + &quot;-&quot; + (\u7701\u7565)</p>&mdash; \u3081\u308d\u3059\uff20\u9ad8\u6821\u751f\u306b\u623b\u308a\u305f\u3044\u304a\u5e74\u9803 (@okota_melos) <a href=\"https://twitter.com/okota_melos/status/531142244112158720\">2014, 11\u6708 8</a></blockquote><script async src=\"//platform.twitter.com/widgets.js\" charset=\"utf-8\"></script>')"
     ],
     "language": "python",
     "metadata": {},
     "outputs": [
      {
       "html": [
        "<blockquote class=\"twitter-tweet\" data-conversation=\"none\" lang=\"ja\"><p><a href=\"https://twitter.com/dichika\">@dichika</a> <a href=\"https://twitter.com/yokkuns\">@yokkuns</a> apply\u4f7f\u308f\u306a\u3044\u306e\u3067\u3042\u308c\u3070\u3001\u3053\u3093\u306a\u3075\u3046\u306b\u3067\u304d\u307e\u3059\u3002&#10;df[&#39;V1&#39;].astype(str).str.slice(0,4) + &quot;-&quot; + df[&#39;V1&#39;].astype(str).str.slice(4,6) + &quot;-&quot; + (\u7701\u7565)</p>&mdash; \u3081\u308d\u3059\uff20\u9ad8\u6821\u751f\u306b\u623b\u308a\u305f\u3044\u304a\u5e74\u9803 (@okota_melos) <a href=\"https://twitter.com/okota_melos/status/531142244112158720\">2014, 11\u6708 8</a></blockquote><script async src=\"//platform.twitter.com/widgets.js\" charset=\"utf-8\"></script>"
       ],
       "metadata": {},
       "output_type": "pyout",
       "prompt_number": 20,
       "text": [
        "<IPython.core.display.HTML at 0x106ca0150>"
       ]
      }
     ],
     "prompt_number": 20
    },
    {
     "cell_type": "code",
     "collapsed": false,
     "input": [
      "# \u3053\u3061\u3089\u306e\u65b9\u304c\u30b9\u30de\u30fc\u30c8\n",
      "df['V1'].str.slice(0,4) + '-' +df['V1'].str.slice(4,6) + '-' + df['V1'].str.slice(6,8)"
     ],
     "language": "python",
     "metadata": {},
     "outputs": [
      {
       "metadata": {},
       "output_type": "pyout",
       "prompt_number": 13,
       "text": [
        "0    2014-01-01\n",
        "1    2014-02-01\n",
        "Name: V1, dtype: object"
       ]
      }
     ],
     "prompt_number": 13
    },
    {
     "cell_type": "heading",
     "level": 3,
     "metadata": {},
     "source": [
      "\u4f59\u8ac7"
     ]
    },
    {
     "cell_type": "markdown",
     "metadata": {},
     "source": [
      "html\u57cb\u3081\u8fbc\u307f\u306f\u30bb\u30eb\u3092markdown\u306b\u6307\u5b9a\u3057\u3066\u3057\u307e\u3046\u306e\u304c\u4e00\u756a\u697d\u3063\u307d\u3044\u3002\n",
      "<blockquote class=\"twitter-tweet\" lang=\"ja\"><p><a href=\"https://twitter.com/dichika\">@dichika</a> \u3042\u30fc\u3001\u30c7\u30fc\u30bf\u30d5\u30ec\u30fc\u30e0\u306b\u3042\u308byyyymmdd\u3092yyyy-mm-dd\u306b\u5909\u63db\u3057\u305f\u304b\u3063\u305f\u3060\u3051\u3067\u3059\uff01&#10;R\u3060\u3068\u7c21\u5358\u306b\u304b\u3051\u308b\u3051\u3069\u3001pandas\u3060\u3068apply\u3068\u304b\u4f7f\u308f\u306a\u3044\u3068\u306a\u306e\u304b\u306a\u30fc\u3068</p>&mdash; \u91cc\u3000\u6d0b\u5e73 (@yokkuns) <a href=\"https://twitter.com/yokkuns/status/530890178819158016\">2014, 11\u6708 8</a></blockquote><script async src=\"//platform.twitter.com/widgets.js\" charset=\"utf-8\"></script>"
     ]
    },
    {
     "cell_type": "heading",
     "level": 3,
     "metadata": {},
     "source": [
      "\u53c2\u8003\u306b\u3057\u305f\u30b5\u30a4\u30c8"
     ]
    },
    {
     "cell_type": "markdown",
     "metadata": {},
     "source": [
      "\u516c\u5f0f\u306enotebook\u5b9f\u4f8b\u3002Part1-5\u307e\u3067\u306f\u76ee\u3092\u901a\u3057\u3066\u304a\u304f\u3002\n",
      "\n",
      "http://nbviewer.ipython.org/github/ipython/ipython/tree/1.x/examples/notebooks/\n",
      "\n",
      "IPython\u3084pandas\u306b\u3064\u3044\u3066\u5fc3\u7406\u5b66\u306e\u4eba\u304c\u61c7\u5207\u4e01\u5be7\u306b\u66f8\u3044\u3066\u304f\u308c\u3066\u3044\u308b\u3002\n",
      "\n",
      "http://www.s12600.net/psy/python/22-2.html\n",
      "\n",
      "Python\u306e\u5834\u5408\u3001\u6587\u5b57\u5217\u7d50\u5408\u306f+\u3084\u3089%\u3092\u4f7f\u3046\u306e\u304c\u826f\u3044\u307f\u305f\u3044\u3067\u3002\n",
      "\n",
      "http://stackoverflow.com/questions/21292552/equivalent-of-paste-r-to-python\n",
      "\n",
      "\u516c\u5f0f\u30c9\u30ad\u30e5\u30e1\u30f3\u30c8\u306e\u6587\u5b57\u5217\u5468\u308a\u306f\u304a\u3055\u3048\u3066\u304a\u304d\u305f\u3044\u3002\n",
      "\n",
      "http://pandas.pydata.org/pandas-docs/stable/text.html"
     ]
    }
   ],
   "metadata": {}
  }
 ]
}