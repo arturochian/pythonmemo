{
 "metadata": {
  "name": "",
  "signature": "sha256:19a32ae7d29f35a06f1dc7e96928ce7568d68e8257fe635143097e8e4337847e"
 },
 "nbformat": 3,
 "nbformat_minor": 0,
 "worksheets": [
  {
   "cells": [
    {
     "cell_type": "heading",
     "level": 1,
     "metadata": {},
     "source": [
      "pandas\u3067\u6587\u5b57\u5217\u3092\u64cd\u4f5c\u3059\u308b"
     ]
    },
    {
     "cell_type": "markdown",
     "metadata": {},
     "source": [
      "\u3044\u307e\u307e\u3067R\u3067\u3084\u3063\u3066\u3044\u305f\u9762\u5012\u306a\u3053\u3068\u3092pandas(Python)\u3067\u3084\u3063\u3066\u3044\u304f"
     ]
    },
    {
     "cell_type": "heading",
     "level": 2,
     "metadata": {},
     "source": [
      "\uff08\u304a\u984c\uff09yyyymmdd\u3068\u3044\u3046int\u3092yyyy-mm-dd\u306b\u5909\u63db\u3059\u308b"
     ]
    },
    {
     "cell_type": "code",
     "collapsed": false,
     "input": [
      "from IPython.core.display import HTML\n",
      "HTML('<blockquote class=\"twitter-tweet\" lang=\"ja\"><p><a href=\"https://twitter.com/dichika\">@dichika</a> \u3042\u30fc\u3001\u30c7\u30fc\u30bf\u30d5\u30ec\u30fc\u30e0\u306b\u3042\u308byyyymmdd\u3092yyyy-mm-dd\u306b\u5909\u63db\u3057\u305f\u304b\u3063\u305f\u3060\u3051\u3067\u3059\uff01&#10;R\u3060\u3068\u7c21\u5358\u306b\u304b\u3051\u308b\u3051\u3069\u3001pandas\u3060\u3068apply\u3068\u304b\u4f7f\u308f\u306a\u3044\u3068\u306a\u306e\u304b\u306a\u30fc\u3068</p>&mdash; \u91cc\u3000\u6d0b\u5e73 (@yokkuns) <a href=\"https://twitter.com/yokkuns/status/530890178819158016\">2014, 11\u6708 8</a></blockquote><script async src=\"//platform.twitter.com/widgets.js\" charset=\"utf-8\"></script>')"
     ],
     "language": "python",
     "metadata": {},
     "outputs": [
      {
       "html": [
        "<blockquote class=\"twitter-tweet\" lang=\"ja\"><p><a href=\"https://twitter.com/dichika\">@dichika</a> \u3042\u30fc\u3001\u30c7\u30fc\u30bf\u30d5\u30ec\u30fc\u30e0\u306b\u3042\u308byyyymmdd\u3092yyyy-mm-dd\u306b\u5909\u63db\u3057\u305f\u304b\u3063\u305f\u3060\u3051\u3067\u3059\uff01&#10;R\u3060\u3068\u7c21\u5358\u306b\u304b\u3051\u308b\u3051\u3069\u3001pandas\u3060\u3068apply\u3068\u304b\u4f7f\u308f\u306a\u3044\u3068\u306a\u306e\u304b\u306a\u30fc\u3068</p>&mdash; \u91cc\u3000\u6d0b\u5e73 (@yokkuns) <a href=\"https://twitter.com/yokkuns/status/530890178819158016\">2014, 11\u6708 8</a></blockquote><script async src=\"//platform.twitter.com/widgets.js\" charset=\"utf-8\"></script>"
       ],
       "metadata": {},
       "output_type": "pyout",
       "prompt_number": 21,
       "text": [
        "<IPython.core.display.HTML at 0x106ca0c90>"
       ]
      }
     ],
     "prompt_number": 21
    },
    {
     "cell_type": "code",
     "collapsed": false,
     "input": [
      "import pandas as pd\n",
      "df = pd.DataFrame({'V1':[20140101,20140201]})\n",
      "\n",
      "# int\u306a\u306e\u3067\u6587\u5b57\u5217\u306b\u5909\u63db\u3059\u308b\n",
      "df['V1'] = df['V1'].astype(str) # \u6700\u521d\u306fapply(str)\u3068\u3057\u3066\u3044\u305f"
     ],
     "language": "python",
     "metadata": {},
     "outputs": [],
     "prompt_number": 15
    },
    {
     "cell_type": "code",
     "collapsed": false,
     "input": [
      "# \u6700\u521d\u306f\u6b63\u898f\u8868\u73fe\u3092\u4f7f\u3063\u305f\u3051\u3069\u307e\u3069\u308d\u3063\u3053\u3057\u304b\u3063\u305f\n",
      "df['V1'].str.extract('(.{4})') + '-' +df['V1'].str.extract('^.{4}(.{2})') + '-' + df['V1'].str.extract('^.{6}(.{2})')"
     ],
     "language": "python",
     "metadata": {},
     "outputs": [
      {
       "metadata": {},
       "output_type": "pyout",
       "prompt_number": 16,
       "text": [
        "0    2014-01-01\n",
        "1    2014-02-01\n",
        "Name: V1, dtype: object"
       ]
      }
     ],
     "prompt_number": 16
    },
    {
     "cell_type": "heading",
     "level": 3,
     "metadata": {},
     "source": [
      "\u89aa\u5207\u306a\u65b9\u767b\u5834"
     ]
    },
    {
     "cell_type": "code",
     "collapsed": false,
     "input": [
      "HTML('<blockquote class=\"twitter-tweet\" data-conversation=\"none\" lang=\"ja\"><p><a href=\"https://twitter.com/dichika\">@dichika</a> <a href=\"https://twitter.com/yokkuns\">@yokkuns</a> apply\u4f7f\u308f\u306a\u3044\u306e\u3067\u3042\u308c\u3070\u3001\u3053\u3093\u306a\u3075\u3046\u306b\u3067\u304d\u307e\u3059\u3002&#10;df[&#39;V1&#39;].astype(str).str.slice(0,4) + &quot;-&quot; + df[&#39;V1&#39;].astype(str).str.slice(4,6) + &quot;-&quot; + (\u7701\u7565)</p>&mdash; \u3081\u308d\u3059\uff20\u9ad8\u6821\u751f\u306b\u623b\u308a\u305f\u3044\u304a\u5e74\u9803 (@okota_melos) <a href=\"https://twitter.com/okota_melos/status/531142244112158720\">2014, 11\u6708 8</a></blockquote><script async src=\"//platform.twitter.com/widgets.js\" charset=\"utf-8\"></script>')"
     ],
     "language": "python",
     "metadata": {},
     "outputs": [
      {
       "html": [
        "<blockquote class=\"twitter-tweet\" data-conversation=\"none\" lang=\"ja\"><p><a href=\"https://twitter.com/dichika\">@dichika</a> <a href=\"https://twitter.com/yokkuns\">@yokkuns</a> apply\u4f7f\u308f\u306a\u3044\u306e\u3067\u3042\u308c\u3070\u3001\u3053\u3093\u306a\u3075\u3046\u306b\u3067\u304d\u307e\u3059\u3002&#10;df[&#39;V1&#39;].astype(str).str.slice(0,4) + &quot;-&quot; + df[&#39;V1&#39;].astype(str).str.slice(4,6) + &quot;-&quot; + (\u7701\u7565)</p>&mdash; \u3081\u308d\u3059\uff20\u9ad8\u6821\u751f\u306b\u623b\u308a\u305f\u3044\u304a\u5e74\u9803 (@okota_melos) <a href=\"https://twitter.com/okota_melos/status/531142244112158720\">2014, 11\u6708 8</a></blockquote><script async src=\"//platform.twitter.com/widgets.js\" charset=\"utf-8\"></script>"
       ],
       "metadata": {},
       "output_type": "pyout",
       "prompt_number": 20,
       "text": [
        "<IPython.core.display.HTML at 0x106ca0150>"
       ]
      }
     ],
     "prompt_number": 20
    },
    {
     "cell_type": "code",
     "collapsed": false,
     "input": [
      "# \u3053\u3061\u3089\u306e\u65b9\u304c\u30b9\u30de\u30fc\u30c8\n",
      "df['V1'].str.slice(0,4) + '-' +df['V1'].str.slice(4,6) + '-' + df['V1'].str.slice(6,8)"
     ],
     "language": "python",
     "metadata": {},
     "outputs": [
      {
       "metadata": {},
       "output_type": "pyout",
       "prompt_number": 13,
       "text": [
        "0    2014-01-01\n",
        "1    2014-02-01\n",
        "Name: V1, dtype: object"
       ]
      }
     ],
     "prompt_number": 13
    }
   ],
   "metadata": {}
  }
 ]
}